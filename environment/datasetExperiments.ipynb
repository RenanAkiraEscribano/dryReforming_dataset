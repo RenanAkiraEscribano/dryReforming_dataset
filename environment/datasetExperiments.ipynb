{
 "cells": [
  {
   "cell_type": "code",
   "execution_count": null,
   "metadata": {
    "vscode": {
     "languageId": "plaintext"
    }
   },
   "outputs": [],
   "source": [
    "pip install shap"
   ]
  },
  {
   "cell_type": "code",
   "execution_count": null,
   "metadata": {
    "vscode": {
     "languageId": "plaintext"
    }
   },
   "outputs": [],
   "source": [
    "import matplotlib.pyplot as plt\n",
    "import numpy as np\n",
    "import pandas as pd\n",
    "import time\n",
    "from sklearn.preprocessing import MinMaxScaler, Normalizer\n",
    "from matplotlib.colors import ListedColormap\n",
    "from sklearn.model_selection import RandomizedSearchCV\n",
    "from scipy.stats import loguniform\n",
    "from sklearn.datasets import make_circles, make_classification, make_moons\n",
    "from sklearn.discriminant_analysis import QuadraticDiscriminantAnalysis\n",
    "from sklearn.ensemble import RandomForestClassifier\n",
    "from sklearn.gaussian_process import GaussianProcessClassifier\n",
    "from sklearn.gaussian_process.kernels import RBF\n",
    "from sklearn.inspection import DecisionBoundaryDisplay\n",
    "from sklearn.model_selection import train_test_split\n",
    "from sklearn.naive_bayes import GaussianNB\n",
    "from sklearn.neighbors import KNeighborsClassifier\n",
    "from sklearn.neural_network import MLPClassifier\n",
    "from sklearn.pipeline import make_pipeline\n",
    "from sklearn.preprocessing import StandardScaler\n",
    "from sklearn.svm import SVC\n",
    "from sklearn.tree import DecisionTreeClassifier\n",
    "from sklearn.model_selection import StratifiedKFold, cross_val_score, LeaveOneOut\n",
    "from sklearn.metrics import confusion_matrix\n",
    "from sklearn.ensemble import VotingClassifier, StackingClassifier\n",
    "from sklearn.metrics import precision_score, recall_score, f1_score, roc_auc_score, accuracy_score\n",
    "from sklearn.inspection import permutation_importance\n",
    "from imblearn.over_sampling import RandomOverSampler\n",
    "from collections import Counter\n",
    "from itertools import combinations\n",
    "from sklearn.metrics import classification_report\n",
    "from sklearn.model_selection import learning_curve\n",
    "import seaborn as sns\n",
    "from sklearn.inspection import PartialDependenceDisplay\n",
    "from sklearn.inspection import partial_dependence\n",
    "from sklearn.metrics import confusion_matrix, accuracy_score, f1_score, recall_score, precision_score, classification_report\n",
    "import shap"
   ]
  },
  {
   "cell_type": "code",
   "execution_count": null,
   "metadata": {
    "vscode": {
     "languageId": "plaintext"
    }
   },
   "outputs": [],
   "source": [
    "names = [\n",
    "    \"KNN\",\n",
    "    \"RF\",\n",
    "    \"QDA\",\n",
    "    \"SVM\"\n",
    "]\n",
    "\n",
    "classifiers = [\n",
    "    make_pipeline(StandardScaler(), KNeighborsClassifier()),\n",
    "    make_pipeline(StandardScaler(), RandomForestClassifier(random_state=42)),\n",
    "    make_pipeline(StandardScaler(), QuadraticDiscriminantAnalysis()),\n",
    "    make_pipeline(StandardScaler(), SVC(random_state=42, probability=True))\n",
    "]\n"
   ]
  },
  {
   "cell_type": "code",
   "execution_count": null,
   "metadata": {
    "vscode": {
     "languageId": "plaintext"
    }
   },
   "outputs": [],
   "source": [
    "# Lista de índices das bases de dados\n",
    "indices = [17, 21, 23, 22, 24, 26, 27, 30, 39]\n",
    "\n",
    "resultados_gerais = {name: {\"accuracy\": [], \"precision\": [], \"recall\": [], \"f1_score\": []} for name in names}\n",
    "\n",
    "dfs = {}\n",
    "for i in indices:\n",
    "    df = pd.read_csv(f'/content/drive/MyDrive/data/finalVersion/base{i}_final.csv')\n",
    "    df['number data'] = range(len(df))\n",
    "    df = df.drop(columns=['id_reforma','sdv002','sdc002','mdv001_1','mdv001_2','mdv001_3','mdv001_4','sdu001_1','sdu001_2','data_hora_reforma','TipoAlarmeReleResistencia_id_tipo','TipoAlarmeResistencia_id_tipo','id_reacao'])\n",
    "    df.rename(columns={'sdp002': 'pressure', 'sdt002': 'reactor temperature','sdt003':'pre-reactor temperature','sdu002_1':'humidity','sdu002_2':'outlet temperature','rotulo':'label'}, inplace=True)\n",
    "    dfs[i] = df\n",
    "\n",
    "combinacoes = [\n",
    "    {\"treinamento\": [17, 21, 22, 24, 26, 27, 30, 39], \"teste\": [23]},\n",
    "    {\"treinamento\": [17, 21, 23, 22, 26, 27, 30, 39], \"teste\": [24]},\n",
    "    {\"treinamento\": [17, 21, 23, 22, 24, 27, 30, 39], \"teste\": [26]},\n",
    "    {\"treinamento\": [23, 22, 24, 26, 27, 30, 39], \"teste\": [17, 21]},\n",
    "    {\"treinamento\": [21, 23, 24, 26, 27, 30, 39], \"teste\": [17, 22]},\n",
    "    {\"treinamento\": [21, 23, 22, 24, 26, 27, 39], \"teste\": [17, 30]},\n",
    "    {\"treinamento\": [21, 23, 22, 24, 26, 27, 30], \"teste\": [17, 39]},\n",
    "    {\"treinamento\": [17, 23, 22, 24, 26, 30, 39], \"teste\": [27, 21]},\n",
    "    {\"treinamento\": [17, 21, 23, 24, 26, 30, 39], \"teste\": [27, 22]},\n",
    "    {\"treinamento\": [17, 21, 23, 22, 24, 26, 39], \"teste\": [27, 30]},\n",
    "    {\"treinamento\": [17, 21, 23, 22, 24, 26, 30], \"teste\": [27, 39]},\n",
    "]"
   ]
  },
  {
   "cell_type": "code",
   "execution_count": null,
   "metadata": {
    "vscode": {
     "languageId": "plaintext"
    }
   },
   "outputs": [],
   "source": [
    "\n",
    "for i, combinacao in enumerate(combinacoes):\n",
    "    # Bases para treinamento\n",
    "    dfs_treinamento = [dfs[idx] for idx in combinacao[\"treinamento\"]]\n",
    "    treino_df = pd.concat(dfs_treinamento, ignore_index=True)\n",
    "\n",
    "    # Bases para teste\n",
    "    dfs_teste = [dfs[idx] for idx in combinacao[\"teste\"]]\n",
    "    teste_df = pd.concat(dfs_teste, ignore_index=True)\n",
    "\n",
    "    print(f\"Combinação {i + 1}:\")\n",
    "    print(f\"  Treinamento: Índices {combinacao['treinamento']} -> {len(treino_df)} linhas no total.\")\n",
    "    print(f\"  Teste: Índices {combinacao['teste']} -> {len(teste_df)} linhas no total.\")\n",
    "    print('')\n",
    "\n",
    "    # Separar atributos e rótulos\n",
    "    X_train = treino_df.drop(columns=['label'])\n",
    "    y_train = treino_df['label']\n",
    "    X_test = teste_df.drop(columns=['label'])\n",
    "    y_test = teste_df['label']\n",
    "\n",
    "    for name, clf in zip(names, classifiers):\n",
    "        # Validação cruzada\n",
    "        skf = StratifiedKFold(n_splits=5, shuffle=True, random_state=42)\n",
    "        cross_val_scores = cross_val_score(clf, X_train, y_train, cv=skf)\n",
    "\n",
    "        print(f\"Validação Cruzada - {name}:\")\n",
    "        print('Média dos Scores da Validação Cruzada:', np.mean(cross_val_scores))\n",
    "        print('')\n",
    "\n",
    "        # Teste final\n",
    "        clf.fit(X_train, y_train)\n",
    "        y_pred = clf.predict(X_test)\n",
    "        conf_matrix = confusion_matrix(y_test, y_pred)\n",
    "        class_report = classification_report(y_test, y_pred, digits=4)\n",
    "\n",
    "        acc = accuracy_score(y_test, y_pred)\n",
    "        prec = precision_score(y_test, y_pred, average='weighted')\n",
    "        rec = recall_score(y_test, y_pred, average='weighted')\n",
    "        f1 = f1_score(y_test, y_pred, average='weighted')\n",
    "\n",
    "        # Armazenar resultados\n",
    "        resultados_gerais[name][\"accuracy\"].append(acc)\n",
    "        resultados_gerais[name][\"precision\"].append(prec)\n",
    "        resultados_gerais[name][\"recall\"].append(rec)\n",
    "        resultados_gerais[name][\"f1_score\"].append(f1)\n",
    "\n",
    "        print(f\"VALIDAÇÃO - Matriz de Confusão {name}:\")\n",
    "        print(conf_matrix)\n",
    "        print(f\"VALIDAÇÃO - Relatório de Classificação {name}:\\n{class_report}\")\n",
    "        print('-' * 60)\n",
    "\n",
    "        real = y_test.values  # Valores reais\n",
    "        pred = y_pred         # Previsões do modelo\n",
    "\n",
    "        # Criar o gráfico\n",
    "        plt.figure(figsize=(12, 6))\n",
    "        plt.plot(real, label='Real', linestyle='-', marker='o', alpha=0.7)\n",
    "        plt.plot(pred, label='Predicted', linestyle='--', marker='x', alpha=0.7)\n",
    "        #plt.title(f'Combinação {i+1} - {name}')\n",
    "        plt.xlabel('Samples')\n",
    "        plt.ylabel('Class')\n",
    "        plt.legend()\n",
    "        plt.grid(True)\n",
    "        plt.show()\n"
   ]
  },
  {
   "cell_type": "code",
   "execution_count": null,
   "metadata": {
    "vscode": {
     "languageId": "plaintext"
    }
   },
   "outputs": [],
   "source": [
    "print(\"MÉDIAS GERAIS DAS MÉTRICAS PARA TODAS AS COMBINAÇÕES:\")\n",
    "for name in names:\n",
    "    acc_mean = np.mean(resultados_gerais[name][\"accuracy\"])\n",
    "    prec_mean = np.mean(resultados_gerais[name][\"precision\"])\n",
    "    rec_mean = np.mean(resultados_gerais[name][\"recall\"])\n",
    "    f1_mean = np.mean(resultados_gerais[name][\"f1_score\"])\n",
    "\n",
    "    print(f\"{name}:\")\n",
    "    print(f\"  Média da Acurácia: {acc_mean:.4f}\")\n",
    "    print(f\"  Média da Precisão: {prec_mean:.4f}\")\n",
    "    print(f\"  Média do Recall: {rec_mean:.4f}\")\n",
    "    print(f\"  Média do F1-Score: {f1_mean:.4f}\")\n",
    "    print('-' * 60)"
   ]
  },
  {
   "cell_type": "code",
   "execution_count": null,
   "metadata": {
    "vscode": {
     "languageId": "plaintext"
    }
   },
   "outputs": [],
   "source": [
    "resultados_rf = resultados_gerais[\"RF\"]\n",
    "\n",
    "accuracy_values = resultados_rf['accuracy']\n",
    "melhor_comb = np.argmax(accuracy_values)  # Índice da melhor combinação (maior accuracy)\n",
    "pior_comb = np.argmin(accuracy_values)  # Índice da pior combinação (menor accuracy)\n",
    "\n",
    "# Exibir os índices da melhor e pior combinação\n",
    "print(f\"Melhor Combinação (índice {melhor_comb + 1}): {accuracy_values[melhor_comb]:.4f}\")\n",
    "print(f\"Pior Combinação (índice {pior_comb + 1}): {accuracy_values[pior_comb]:.4f}\")\n",
    "\n",
    "melhor_comb_treinamento = combinacoes[melhor_comb][\"treinamento\"]\n",
    "melhor_comb_teste = combinacoes[melhor_comb][\"teste\"]\n",
    "\n",
    "dfs_treinamento_melhor = [dfs[idx] for idx in melhor_comb_treinamento]\n",
    "treino_df_melhor = pd.concat(dfs_treinamento_melhor, ignore_index=True)\n",
    "\n",
    "dfs_teste_melhor = [dfs[idx] for idx in melhor_comb_teste]\n",
    "teste_df_melhor = pd.concat(dfs_teste_melhor, ignore_index=True)\n",
    "\n",
    "# Carregar as bases de dados para a pior combinação\n",
    "pior_comb_treinamento = combinacoes[pior_comb][\"treinamento\"]\n",
    "pior_comb_teste = combinacoes[pior_comb][\"teste\"]\n",
    "\n",
    "dfs_treinamento_pior = [dfs[idx] for idx in pior_comb_treinamento]\n",
    "treino_df_pior = pd.concat(dfs_treinamento_pior, ignore_index=True)\n",
    "\n",
    "dfs_teste_pior = [dfs[idx] for idx in pior_comb_teste]\n",
    "teste_df_pior = pd.concat(dfs_teste_pior, ignore_index=True)\n",
    "\n",
    "# Treinamento e avaliação para a melhor combinação\n",
    "X_train_melhor = treino_df_melhor.drop(columns=['label'])\n",
    "y_train_melhor = treino_df_melhor['label']\n",
    "X_train_melhor = np.array(X_train_melhor)\n",
    "y_train_melhor = np.array(y_train_melhor)\n",
    "\n",
    "X_test_melhor = teste_df_melhor.drop(columns=['label'])\n",
    "y_test_melhor = teste_df_melhor['label']\n",
    "X_test_melhor = np.array(X_test_melhor)\n",
    "y_test_melhor = np.array(y_test_melhor)\n",
    "\n",
    "# Treinamento e avaliação para a pior combinação\n",
    "X_train_pior = treino_df_pior.drop(columns=['label'])\n",
    "y_train_pior = treino_df_pior['label']\n",
    "X_train_pior = np.array(X_train_pior)\n",
    "y_train_pior = np.array(y_train_pior)\n",
    "\n",
    "X_test_pior = teste_df_pior.drop(columns=['label'])\n",
    "y_test_pior = teste_df_pior['label']\n",
    "X_test_pior = np.array(X_test_pior)\n",
    "y_test_pior = np.array(y_test_pior)\n"
   ]
  },
  {
   "cell_type": "code",
   "execution_count": null,
   "metadata": {
    "vscode": {
     "languageId": "plaintext"
    }
   },
   "outputs": [],
   "source": [
    "print('SHAP - MELHOR COMBINAÇÃO:')\n",
    "model = make_pipeline(StandardScaler(), RandomForestClassifier(random_state=42))\n",
    "model.fit(X_train_melhor, y_train_melhor)\n",
    "explainer = shap.Explainer(model.predict, X_train_melhor)\n",
    "\n",
    "shap_values = explainer(X_test_melhor)\n",
    "\n",
    "feature_names = treino_df_melhor.drop(columns=['label']).columns\n",
    "\n",
    "shap.summary_plot(shap_values, X_test_melhor, feature_names=feature_names)\n"
   ]
  },
  {
   "cell_type": "code",
   "execution_count": null,
   "metadata": {
    "vscode": {
     "languageId": "plaintext"
    }
   },
   "outputs": [],
   "source": [
    "feature_names = treino_df_melhor.drop(columns=['label']).columns\n",
    "model = make_pipeline(StandardScaler(), RandomForestClassifier(random_state=42))\n",
    "model.fit(X_train_melhor, y_train_melhor)\n",
    "\n",
    "features = {\"features\": [0, 1, 2, 3, 4, 5], \"kind\": \"both\", \"centered\": True}\n",
    "common_params = {\n",
    "    \"subsample\": 100,\n",
    "    \"n_jobs\": 2,\n",
    "    \"grid_resolution\": 20,\n",
    "    \"random_state\": 42,\n",
    "}\n",
    "\n",
    "# Ajustando o layout para 3 linhas e 2 colunas\n",
    "fig, axs = plt.subplots(nrows=3, ncols=2, figsize=(12, 12), sharey=True, constrained_layout=True)\n",
    "\n",
    "# Criando os gráficos de PDP e ICE\n",
    "display = PartialDependenceDisplay.from_estimator(\n",
    "    model, X_test_melhor, **{**features, **common_params}, feature_names=feature_names, ax=axs, target=2\n",
    ")\n",
    "display.figure_.suptitle(f\"ICE and PDP representations RF C11\", fontsize=16)\n",
    "\n",
    "# Removendo a legenda do eixo y dos subgráficos, exceto do primeiro\n",
    "for ax in axs[:, 1:].flatten():  # Excluindo a primeira coluna\n",
    "    ax.set_ylabel('')\n",
    "\n",
    "plt.show()"
   ]
  },
  {
   "cell_type": "code",
   "execution_count": null,
   "metadata": {
    "vscode": {
     "languageId": "plaintext"
    }
   },
   "outputs": [],
   "source": [
    "print('SHAP - PIOR COMBINAÇÃO:')\n",
    "model = make_pipeline(StandardScaler(), RandomForestClassifier(random_state=42))\n",
    "model.fit(X_train_pior, y_train_pior)\n",
    "explainer = shap.Explainer(model.predict, X_train_pior)\n",
    "shap_values = explainer(X_test_pior)\n",
    "\n",
    "shap.summary_plot(shap_values, X_test_pior, feature_names=feature_names)"
   ]
  },
  {
   "cell_type": "code",
   "execution_count": null,
   "metadata": {
    "vscode": {
     "languageId": "plaintext"
    }
   },
   "outputs": [],
   "source": [
    "model = make_pipeline(StandardScaler(), RandomForestClassifier(random_state=42))\n",
    "model.fit(X_train_pior, y_train_pior)\n",
    "\n",
    "features = {\"features\": [0,1,2, 3,4, 5], \"kind\": \"both\", \"centered\": True}\n",
    "common_params = {\n",
    "    \"subsample\": 100,\n",
    "    \"n_jobs\": 2,\n",
    "    \"grid_resolution\": 20,\n",
    "    \"random_state\": 42,\n",
    "    \"percentiles\": (0.01, 0.99)\n",
    "}\n",
    "\n",
    "# Ajustando o layout para 3 linhas e 2 colunas\n",
    "fig, axs = plt.subplots(nrows=3, ncols=2, figsize=(12, 12), sharey=True, constrained_layout=True)\n",
    "\n",
    "# Criando os gráficos de PDP e ICE\n",
    "display = PartialDependenceDisplay.from_estimator(\n",
    "    model, X_test_pior, **{**features, **common_params}, feature_names=feature_names, ax=axs, target=2\n",
    ")\n",
    "display.figure_.suptitle(f\"ICE and PDP representations RF C3\", fontsize=16)\n",
    "\n",
    "# Removendo a legenda do eixo y dos subgráficos, exceto do primeiro\n",
    "for ax in axs[:, 1:].flatten():  # Excluindo a primeira coluna\n",
    "    ax.set_ylabel('')\n",
    "\n",
    "plt.show()\n"
   ]
  },
  {
   "cell_type": "code",
   "execution_count": null,
   "metadata": {
    "vscode": {
     "languageId": "plaintext"
    }
   },
   "outputs": [],
   "source": [
    "def plot_shap_comparison(model, X_train, X_test, y_train, y_test, model_name=\"Model\"):\n",
    "\n",
    "    feature_names = treino_df_melhor.drop(columns=['label']).columns\n",
    "    # Treinando o modelo\n",
    "    model.fit(X_train, y_train)\n",
    "\n",
    "    # Gerando previsões\n",
    "    y_pred = model.predict(X_test)\n",
    "\n",
    "    # Identificando previsões corretas e incorretas\n",
    "    incorrect_true_labels = y_test[y_pred != y_test]\n",
    "    incorrect_preds = X_test[y_pred != y_test]\n",
    "\n",
    "    # Realizando a análise SHAP para previsões corretas e incorretas\n",
    "    explainer = shap.Explainer(model.predict_proba, X_train)\n",
    "    shap_values_incorrect = explainer(incorrect_preds)\n",
    "\n",
    "    # Obtendo os nomes das classes\n",
    "    print(f\"SHAP Analysis for {name} (Incorrect Predictions)\")\n",
    "    shap.summary_plot(shap_values_incorrect, incorrect_preds, feature_names=feature_names, plot_type=\"bar\")\n",
    "\n",
    "    # Comparação entre previsões corretas e incorretas\n",
    "    correct_preds = X_test[y_pred == y_test]\n",
    "    correct_shap_values = explainer(correct_preds)\n",
    "\n",
    "    class_names = clf.classes_  # Obter nomes das classes do classificador\n",
    "    incorrect_shap_dfs = []\n",
    "    correct_shap_dfs = []\n",
    "    for class_index, class_name in enumerate(class_names):\n",
    "        # Para previsões corretas\n",
    "        incorrect_shap_dfs.append(pd.DataFrame(np.abs(shap_values_incorrect[:, :, class_index].values).mean(axis=0),\n",
    "                                      columns=[f'SHAP Importance ({class_name})'],\n",
    "                                      index=feature_names))\n",
    "\n",
    "        # Para previsões incorretas\n",
    "        correct_shap_dfs.append(pd.DataFrame(np.abs(correct_shap_values[:, :, class_index].values).mean(axis=0),\n",
    "                                    columns=[f'SHAP Importance ({class_name})'],\n",
    "                                    index=feature_names))\n",
    "\n",
    "\n",
    "    incorrect_shap_df = pd.concat(incorrect_shap_dfs, axis=1)\n",
    "    correct_shap_df = pd.concat(correct_shap_dfs, axis=1)\n",
    "\n",
    "    # Combina as médias de SHAP para visualização comparativa\n",
    "    comparison_df = pd.concat([correct_shap_df, incorrect_shap_df], axis=1, keys=[\"Correct\", \"Incorrect\"])\n",
    "\n",
    "    # Exibe o gráfico comparativo das importâncias SHAP\n",
    "    comparison_df.plot(kind='bar', figsize=(10, 6))\n",
    "    #plt.title(f\"SHAP Importance Comparison for {name}\")\n",
    "    plt.ylabel(\"Average SHAP Importance\")\n",
    "\n",
    "    plt.show()\n",
    "\n",
    "    # Exibe o dataframe comparativo (opcional)\n",
    "    print(\"SHAP Importance Comparison (Correct vs Incorrect):\")\n",
    "    print(comparison_df)\n",
    "\n",
    "model_rf = make_pipeline(StandardScaler(), RandomForestClassifier(random_state=42))\n",
    "# Analisando a Melhor Combinação\n",
    "print(\"SHAP Analysis for Melhor Combinação (Random Forest)\")\n",
    "plot_shap_comparison(model_rf, X_train_melhor, X_test_melhor, y_train_melhor, y_test_melhor, \"Melhor Combinação\")\n",
    "\n",
    "# Analisando a Pior Combinação\n",
    "print(\"SHAP Analysis for Pior Combinação (Random Forest)\")\n",
    "plot_shap_comparison(model_rf, X_train_pior, X_test_pior, y_train_pior, y_test_pior, \"Pior Combinação\")"
   ]
  }
 ],
 "metadata": {
  "language_info": {
   "name": "python"
  }
 },
 "nbformat": 4,
 "nbformat_minor": 2
}
