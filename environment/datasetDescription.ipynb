{
 "cells": [
  {
   "cell_type": "code",
   "execution_count": null,
   "metadata": {
    "vscode": {
     "languageId": "plaintext"
    }
   },
   "outputs": [],
   "source": [
    "import pandas as pd\n",
    "import matplotlib.pyplot as plt\n",
    "import matplotlib.dates as mdates\n",
    "from matplotlib.colors import ListedColormap\n",
    "from scipy.stats import shapiro, anderson, boxcox\n",
    "import numpy as np\n",
    "import math\n",
    "import seaborn as sns"
   ]
  },
  {
   "cell_type": "code",
   "execution_count": null,
   "metadata": {
    "vscode": {
     "languageId": "plaintext"
    }
   },
   "outputs": [],
   "source": [
    "dir = 'dataset/'\n",
    "index = [1,2,3,4,5,6,7,8,9]\n",
    "dfs = []\n",
    "for i in index:\n",
    "  df = pd.read_csv(dir+'base'+str(i)+'.csv')\n",
    "  dfs.append(df)\n",
    "\n",
    "df_all = pd.concat(dfs, ignore_index=True)"
   ]
  },
  {
   "cell_type": "code",
   "execution_count": null,
   "metadata": {
    "vscode": {
     "languageId": "plaintext"
    }
   },
   "outputs": [],
   "source": [
    "def printBoxPlot(df_data, l_remove):\n",
    "    num_columns = len(df_data.columns) - len(l_remove) # remove label and SMA pressure forecast\n",
    "    num_rows = math.ceil(num_columns / 3)\n",
    "    fig, axs = plt.subplots(num_rows, 3, figsize=(15, 5 * num_rows))\n",
    "    axs = axs.flatten()\n",
    "\n",
    "    k = 0\n",
    "    for i, column in enumerate(df_data.columns):\n",
    "        if column not in l_remove:\n",
    "            axs[i-k].boxplot(df_data[column].dropna())\n",
    "            axs[i-k].set_title(f'{column}')\n",
    "            axs[i-k].set_xlabel(f'{column}')\n",
    "        else:\n",
    "            k += 1\n",
    "\n",
    "    for j in range(i-k+1, len(axs)):\n",
    "        fig.delaxes(axs[j])\n",
    "\n",
    "    plt.tight_layout()\n",
    "\n",
    "    # Exibindo o gráfico\n",
    "    plt.show()"
   ]
  },
  {
   "cell_type": "code",
   "execution_count": null,
   "metadata": {
    "vscode": {
     "languageId": "plaintext"
    }
   },
   "outputs": [],
   "source": [
    "printBoxPlot(df_data=df_all, l_remove=['label'])"
   ]
  },
  {
   "cell_type": "code",
   "execution_count": null,
   "metadata": {
    "vscode": {
     "languageId": "plaintext"
    }
   },
   "outputs": [],
   "source": [
    "print(f\"Descriptive statistics for all dataset:\")\n",
    "df_all.describe()\n",
    "print(\"\\n\" + \"=\"*50 + \"\\n\")\n",
    "\n",
    "for label in [0, 1, 2]:\n",
    "    print(f\"Descriptive statistics for label {label}:\")\n",
    "    print(df_all[df_all['label'] == label].describe())\n",
    "    print(\"\\n\" + \"=\"*50 + \"\\n\")"
   ]
  },
  {
   "cell_type": "code",
   "execution_count": null,
   "metadata": {
    "vscode": {
     "languageId": "plaintext"
    }
   },
   "outputs": [],
   "source": [
    "skewness = df_all.skew()\n",
    "kurtosis = df_all.kurtosis()\n",
    "stats = pd.DataFrame({'Skewness': skewness, 'Kurtosis': kurtosis})\n",
    "stats"
   ]
  },
  {
   "cell_type": "code",
   "execution_count": null,
   "metadata": {
    "vscode": {
     "languageId": "plaintext"
    }
   },
   "outputs": [],
   "source": [
    "def printHistogram(df_data, l_remove):\n",
    "    num_columns = len(df_data.columns)- len(l_remove)\n",
    "    num_rows = math.ceil(num_columns / 3)\n",
    "    fig, axs = plt.subplots(num_rows, 3, figsize=(15, 5 * num_rows))\n",
    "    axs = axs.flatten()\n",
    "    k = 0\n",
    "    for i, column in enumerate(df_data.columns):\n",
    "        if column not in l_remove:\n",
    "            axs[i-k].hist(df_data[column].dropna(), bins=30, edgecolor='black')\n",
    "            axs[i-k].set_title(f'{column}')\n",
    "            axs[i-k].set_xlabel(f'{column}')\n",
    "            axs[i-k].set_ylabel('Frequency')\n",
    "        else:\n",
    "            k +=1\n",
    "\n",
    "    for j in range(i-k+1, len(axs)):\n",
    "        fig.delaxes(axs[j])\n",
    "\n",
    "    plt.tight_layout()\n",
    "\n",
    "    plt.show()\n",
    "\n",
    "printHistogram(df_data=df_all, l_remove=['label', 'SMA pressure forecast'])"
   ]
  },
  {
   "cell_type": "code",
   "execution_count": null,
   "metadata": {
    "vscode": {
     "languageId": "plaintext"
    }
   },
   "outputs": [],
   "source": [
    "result = []\n",
    "\n",
    "for column in df_all_flow.columns:\n",
    "    stat, p = shapiro(df_all_flow[column].dropna())\n",
    "    result.append({'Column': column, 'Stat': stat, 'p-value': p, 'Normal': p > 0.05})\n",
    "\n",
    "result_df = pd.DataFrame(result)\n",
    "\n",
    "print(result_df)"
   ]
  },
  {
   "cell_type": "code",
   "execution_count": null,
   "metadata": {
    "vscode": {
     "languageId": "plaintext"
    }
   },
   "outputs": [],
   "source": [
    "def plotCorrelation(correlation_matrix):\n",
    "    plt.figure(figsize=(10, 8))\n",
    "    sns.heatmap(correlation_matrix, annot=True, cmap='coolwarm', square=True, fmt='.2f')\n",
    "    plt.title('Matriz de Correlação Geral')\n",
    "    plt.show()\n",
    "\n",
    "plotCorrelation(df_all.corr())"
   ]
  },
  {
   "cell_type": "code",
   "execution_count": null,
   "metadata": {
    "vscode": {
     "languageId": "plaintext"
    }
   },
   "outputs": [],
   "source": [
    "dataframes = []\n",
    "\n",
    "for idx in idBase:\n",
    "    df = pd.read_csv(dir+'base'+str(idx)+'.csv')\n",
    "    df = df.drop(['number data'], axis=1)\n",
    "    dataframes.append(df)\n",
    "\n",
    "total_df = pd.concat(dataframes, ignore_index=True)\n",
    "\n",
    "min_values = total_df.min()\n",
    "max_values = total_df.max()\n",
    "normalized_dfs = [(df - min_values) / (max_values - min_values) for df in dataframes]\n",
    "\n",
    "description_map = {0: 'Activation', 1: 'Reaction', 2: 'Irregularity'}"
   ]
  },
  {
   "cell_type": "code",
   "execution_count": null,
   "metadata": {
    "vscode": {
     "languageId": "plaintext"
    }
   },
   "outputs": [],
   "source": [
    "def plot_data_1(dataset_idx, df, normalized_df):\n",
    "    plt.figure(figsize=(10, 5))\n",
    "\n",
    "    base_cmap = plt.colormaps.get_cmap('tab10')\n",
    "    colors = ListedColormap(base_cmap.colors[:len(normalized_df.columns)])\n",
    "\n",
    "    for idx, col in enumerate(normalized_df.columns):\n",
    "        if col != 'label':\n",
    "            plt.plot(normalized_df[col], label=col, color=colors(idx), alpha=0.7)\n",
    "\n",
    "    previous_value = None\n",
    "    first_label = True\n",
    "    for i, value in enumerate(df['label']):\n",
    "        if first_label:\n",
    "            plt.text(i + 6, normalized_df.max().max(), description_map[value],\n",
    "                     rotation=0, verticalalignment='bottom', horizontalalignment='left', fontsize=8, color='black')\n",
    "            first_label = False\n",
    "        elif previous_value is not None and value != previous_value:\n",
    "            plt.axvline(x=i, color='black', linestyle='--', alpha=0.5)\n",
    "            plt.text(i + 6, normalized_df.max().max(), description_map[value],\n",
    "                     rotation=0, verticalalignment='bottom', horizontalalignment='left', fontsize=8, color='black')\n",
    "\n",
    "        previous_value = value\n",
    "\n",
    "    plt.grid(True, linestyle='--', alpha=0.7)\n",
    "\n",
    "    plt.title(f'Dataset {dataset_idx:02d}')\n",
    "    plt.xlabel('Number Data')\n",
    "    plt.ylabel('Value')\n",
    "    plt.legend(bbox_to_anchor=(1.0, 1), loc='upper left', fontsize=8)\n",
    "    plt.tight_layout()\n",
    "    plt.show()\n",
    "\n",
    "for idx, (dataset_idx, df, normalized_df) in enumerate(zip(dfCluster['id'], dfCluster['dfDisp'], dfCluster['dataNorm'])):\n",
    "  plot_data_1(dataset_idx, df, normalized_df)"
   ]
  },
  {
   "cell_type": "code",
   "execution_count": null,
   "metadata": {
    "vscode": {
     "languageId": "plaintext"
    }
   },
   "outputs": [],
   "source": [
    "def plot_data_2(dataset_idx, df, normalized_df):\n",
    "    plt.figure(figsize=(10, 5))\n",
    "\n",
    "    base_cmap = plt.colormaps.get_cmap('tab10')\n",
    "    colors = ListedColormap(base_cmap.colors[:len(normalized_df.columns)])\n",
    "\n",
    "    for idx, col in enumerate(normalized_df.columns):\n",
    "        if col != 'label':\n",
    "            plt.scatter(range(len(normalized_df[col])), normalized_df[col], label=col, color=colors(idx), s=1, alpha=0.7)\n",
    "\n",
    "    previous_value = None\n",
    "    first_label = True\n",
    "    for i, value in enumerate(df['label']):\n",
    "        if first_label:\n",
    "            plt.text(i + 6, normalized_df.max().max(), description_map[value],\n",
    "                     rotation=0, verticalalignment='bottom', horizontalalignment='left', fontsize=8, color='black')\n",
    "            first_label = False\n",
    "        elif previous_value is not None and value != previous_value:\n",
    "            plt.axvline(x=i, color='black', linestyle='--', alpha=0.5)\n",
    "            plt.text(i + 6, normalized_df.max().max(), description_map[value],\n",
    "                     rotation=0, verticalalignment='bottom', horizontalalignment='left', fontsize=8, color='black')\n",
    "\n",
    "        previous_value = value\n",
    "\n",
    "    plt.grid(True, linestyle='--', alpha=0.7)\n",
    "\n",
    "    plt.title(f'Dataset {dataset_idx:02d}')\n",
    "    plt.xlabel('Number Data')\n",
    "    plt.ylabel('Value')\n",
    "    plt.legend(bbox_to_anchor=(1.0, 1), loc='upper left', fontsize=8)\n",
    "    plt.tight_layout()\n",
    "    plt.show()\n",
    "\n",
    "for idx, (dataset_idx, df, normalized_df) in enumerate(zip([1, 2, 3, 4, 5, 6, 7, 8, 9], dataframes, normalized_dfs)):\n",
    "    plot_data_2(dataset_idx, df, normalized_df)"
   ]
  }
 ],
 "metadata": {
  "language_info": {
   "name": "python"
  }
 },
 "nbformat": 4,
 "nbformat_minor": 2
}
